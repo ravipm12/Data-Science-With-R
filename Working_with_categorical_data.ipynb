{
 "cells": [
  {
   "cell_type": "markdown",
   "id": "employed-place",
   "metadata": {
    "toc": true
   },
   "source": [
    "<h1>Analysing Categorical Data<span class=\"tocSkip\"></span></h1>\n",
    "<div class=\"toc\"><ul class=\"toc-item\"><li><span><a href=\"#-Introduction-to-Factor-Variables-\" data-toc-modified-id=\"-Introduction-to-Factor-Variables--1\"><span class=\"toc-item-num\">1&nbsp;&nbsp;</span><span style=\"background: #90ee90\"> Introduction to Factor Variables </span></a></span><ul class=\"toc-item\"><li><span><a href=\"#Nominal-and-Ordinal-Data\" data-toc-modified-id=\"Nominal-and-Ordinal-Data-1.1\"><span class=\"toc-item-num\">1.1&nbsp;&nbsp;</span>Nominal and Ordinal Data</a></span></li><li><span><a href=\"#Characters-and-Factors\" data-toc-modified-id=\"Characters-and-Factors-1.2\"><span class=\"toc-item-num\">1.2&nbsp;&nbsp;</span>Characters and Factors</a></span></li><li><span><a href=\"#Identifying-Characters-and-Factors\" data-toc-modified-id=\"Identifying-Characters-and-Factors-1.3\"><span class=\"toc-item-num\">1.3&nbsp;&nbsp;</span>Identifying Characters and Factors</a></span></li><li><span><a href=\"#Converting-Characters-to-Factors\" data-toc-modified-id=\"Converting-Characters-to-Factors-1.4\"><span class=\"toc-item-num\">1.4&nbsp;&nbsp;</span>Converting Characters to Factors</a></span></li><li><span><a href=\"#Summarizing-Factors\" data-toc-modified-id=\"Summarizing-Factors-1.5\"><span class=\"toc-item-num\">1.5&nbsp;&nbsp;</span>Summarizing Factors</a></span></li></ul></li></ul></div>"
   ]
  },
  {
   "cell_type": "markdown",
   "id": "sustained-western",
   "metadata": {},
   "source": [
    "As a data scientist, we often find yourself working with non-numerical data, such as job titles, survey responses, or demographic information. R has a special way of representing them, called **Factors**. This Tutorial will help us master working with **Factors** using the tidyverse package forcats. We will work real world datasets, such as the fivethirtyeight flight dataset and Kaggle’s 2017 State of Data Science and ML Survey.\n",
    "\n",
    "Prerequisites :  \n",
    "a. Basic knowledge of dplyr for data manipulation  \n",
    "b. Basic knowledge of tidyr and stringr for data cleaning    \n",
    "c. Basic knowledge of ggplot2 for creating visualizations  \n",
    "d. Packages : Tidyverse , Forcats , Fivethirtyeight  "
   ]
  },
  {
   "cell_type": "markdown",
   "id": "portuguese-challenge",
   "metadata": {},
   "source": [
    "##  <span style = 'background : #90ee90'> Introduction to Factor Variables </span>\n",
    "\n",
    "In this chapter, we will learn all about factors. We will discover the difference between categorical and ordinal variables, how R represents them, and how to inspect them to find the number and names of the levels. Using the forcats package, we can improve plots by reordering variables by their frequency."
   ]
  },
  {
   "cell_type": "markdown",
   "id": "intense-omaha",
   "metadata": {},
   "source": [
    "Let us load the libraries we will need for analyising categorical data"
   ]
  },
  {
   "cell_type": "code",
   "execution_count": 12,
   "id": "commercial-peter",
   "metadata": {},
   "outputs": [],
   "source": [
    "# load libraries\n",
    "suppressPackageStartupMessages(library(tidyverse)) # meta package for data manipulation and data visualization\n",
    "\n",
    "suppressPackageStartupMessages(library(fivethirtyeight)) # package with curated data sets"
   ]
  },
  {
   "cell_type": "markdown",
   "id": "opponent-defendant",
   "metadata": {},
   "source": [
    "### Nominal and Ordinal Data\n",
    "Categorical Data can be broadly classified into two distinct types :  \n",
    "*Nominal* : If there is no apparent order/ranking to the categories of a categorical variable, we refer to to it as a Nominal Variable. Nominal categorical variables are those variables with two or more categories that do not have any relational order. Examples of nominal categories could be states in the U.S., brands of computers, or ethnicities.For Nominal variables, there is no intrinsic ordering that distinguishes a category as greater than or less than another category.The number of possible values for a nominal variable can be quite large. It’s even possible that a nominal categorical variable will take on a unique value for every observation in a dataset, like in the case of unique identifiers such as name or email_address \n",
    "\n",
    "*Ordinal* : When the groupings of a categorical variable have a specific order or ranking , it is an Ordinal Variable.  \n",
    "Case 1 : Suppose there was a variable containing responses to the question “Rate your agreement with the statement: The minimum age to drive should be lowered.” The response options are “strongly disagree”, “disagree”, “neutral”, “agree”, and “strongly agree”.Because we can see an order where “strongly disagree” < “disagree” < “neutral” < “agree” < “strongly agree” in relation to agreement, we consider the variable to be ordinal.  \n",
    "Case 2 : If we asked people about their annual income and offered four choices, \"0-50,000\", \"50,000-150,000\", \"150,000-500,000\", and \"more than 500,000\", this would be an ordinal variable, because these groups go from smallest to largest. Notice however, distance between each group is not constant - if you were asked to construct a mean salary from this data, you couldn't do it. This is what makes it qualitative instead of quantitative data."
   ]
  },
  {
   "cell_type": "markdown",
   "id": "constitutional-pixel",
   "metadata": {},
   "source": [
    "### Characters and Factors  \n",
    "R has two ways to represent qualitative variables: as *characters* and as *factors*.   \n",
    "There are subtle differences between them, but generally, we use *factors for nominal and ordinal variables* and characters otherwise.   \n",
    "e.g. Names would best be represented as characters, because there's no limit to the possible number of names! On the other hand, a survey question where you can select which programming languages you know among 40 possible answers can be represented as a factor  \n",
    "\n",
    "### Identifying Characters and Factors\n",
    "\n",
    "There are three ways to identify if the variable is a factor or not.  \n",
    "\n",
    "Method 1 : Look at the head of the tibble.If we have stored our dataset as a tibble, a modern dataframe, each column type is automatically printed out below or next to the column name \n",
    "\n",
    "Method 2 : Use the function is.factor() , which will be true or false depending on whether the input is a factor  \n",
    "\n",
    "Method 3 : use the glimpse() method on the dataframe , which will give us sample values for each column along with the data type of each column\n",
    "\n",
    "Let us examine the college_ages dataset from the fivethirtyeight package"
   ]
  },
  {
   "cell_type": "code",
   "execution_count": 13,
   "id": "another-entity",
   "metadata": {},
   "outputs": [
    {
     "data": {
      "text/html": [
       "<table>\n",
       "<caption>A tibble: 6 × 11</caption>\n",
       "<thead>\n",
       "\t<tr><th scope=col>major_code</th><th scope=col>major</th><th scope=col>major_category</th><th scope=col>total</th><th scope=col>employed</th><th scope=col>employed_fulltime_yearround</th><th scope=col>unemployed</th><th scope=col>unemployment_rate</th><th scope=col>p25th</th><th scope=col>median</th><th scope=col>p75th</th></tr>\n",
       "\t<tr><th scope=col>&lt;int&gt;</th><th scope=col>&lt;chr&gt;</th><th scope=col>&lt;chr&gt;</th><th scope=col>&lt;int&gt;</th><th scope=col>&lt;int&gt;</th><th scope=col>&lt;int&gt;</th><th scope=col>&lt;int&gt;</th><th scope=col>&lt;dbl&gt;</th><th scope=col>&lt;dbl&gt;</th><th scope=col>&lt;dbl&gt;</th><th scope=col>&lt;dbl&gt;</th></tr>\n",
       "</thead>\n",
       "<tbody>\n",
       "\t<tr><td>1100</td><td><span style=white-space:pre-wrap>General Agriculture                  </span></td><td>Agriculture &amp; Natural Resources</td><td>128148</td><td>90245</td><td>74078</td><td>2423</td><td>0.02614711</td><td>34000</td><td>50000</td><td>80000</td></tr>\n",
       "\t<tr><td>1101</td><td>Agriculture Production And Management</td><td>Agriculture &amp; Natural Resources</td><td> 95326</td><td>76865</td><td>64240</td><td>2266</td><td>0.02863606</td><td>36000</td><td>54000</td><td>80000</td></tr>\n",
       "\t<tr><td>1102</td><td><span style=white-space:pre-wrap>Agricultural Economics               </span></td><td>Agriculture &amp; Natural Resources</td><td> 33955</td><td>26321</td><td>22810</td><td> 821</td><td>0.03024832</td><td>40000</td><td>63000</td><td>98000</td></tr>\n",
       "\t<tr><td>1103</td><td><span style=white-space:pre-wrap>Animal Sciences                      </span></td><td>Agriculture &amp; Natural Resources</td><td>103549</td><td>81177</td><td>64937</td><td>3619</td><td>0.04267890</td><td>30000</td><td>46000</td><td>72000</td></tr>\n",
       "\t<tr><td>1104</td><td><span style=white-space:pre-wrap>Food Science                         </span></td><td>Agriculture &amp; Natural Resources</td><td> 24280</td><td>17281</td><td>12722</td><td> 894</td><td>0.04918845</td><td>38500</td><td>62000</td><td>90000</td></tr>\n",
       "\t<tr><td>1105</td><td><span style=white-space:pre-wrap>Plant Science And Agronomy           </span></td><td>Agriculture &amp; Natural Resources</td><td> 79409</td><td>63043</td><td>51077</td><td>2070</td><td>0.03179089</td><td>35000</td><td>50000</td><td>75000</td></tr>\n",
       "</tbody>\n",
       "</table>\n"
      ],
      "text/latex": [
       "A tibble: 6 × 11\n",
       "\\begin{tabular}{lllllllllll}\n",
       " major\\_code & major & major\\_category & total & employed & employed\\_fulltime\\_yearround & unemployed & unemployment\\_rate & p25th & median & p75th\\\\\n",
       " <int> & <chr> & <chr> & <int> & <int> & <int> & <int> & <dbl> & <dbl> & <dbl> & <dbl>\\\\\n",
       "\\hline\n",
       "\t 1100 & General Agriculture                   & Agriculture \\& Natural Resources & 128148 & 90245 & 74078 & 2423 & 0.02614711 & 34000 & 50000 & 80000\\\\\n",
       "\t 1101 & Agriculture Production And Management & Agriculture \\& Natural Resources &  95326 & 76865 & 64240 & 2266 & 0.02863606 & 36000 & 54000 & 80000\\\\\n",
       "\t 1102 & Agricultural Economics                & Agriculture \\& Natural Resources &  33955 & 26321 & 22810 &  821 & 0.03024832 & 40000 & 63000 & 98000\\\\\n",
       "\t 1103 & Animal Sciences                       & Agriculture \\& Natural Resources & 103549 & 81177 & 64937 & 3619 & 0.04267890 & 30000 & 46000 & 72000\\\\\n",
       "\t 1104 & Food Science                          & Agriculture \\& Natural Resources &  24280 & 17281 & 12722 &  894 & 0.04918845 & 38500 & 62000 & 90000\\\\\n",
       "\t 1105 & Plant Science And Agronomy            & Agriculture \\& Natural Resources &  79409 & 63043 & 51077 & 2070 & 0.03179089 & 35000 & 50000 & 75000\\\\\n",
       "\\end{tabular}\n"
      ],
      "text/markdown": [
       "\n",
       "A tibble: 6 × 11\n",
       "\n",
       "| major_code &lt;int&gt; | major &lt;chr&gt; | major_category &lt;chr&gt; | total &lt;int&gt; | employed &lt;int&gt; | employed_fulltime_yearround &lt;int&gt; | unemployed &lt;int&gt; | unemployment_rate &lt;dbl&gt; | p25th &lt;dbl&gt; | median &lt;dbl&gt; | p75th &lt;dbl&gt; |\n",
       "|---|---|---|---|---|---|---|---|---|---|---|\n",
       "| 1100 | General Agriculture                   | Agriculture &amp; Natural Resources | 128148 | 90245 | 74078 | 2423 | 0.02614711 | 34000 | 50000 | 80000 |\n",
       "| 1101 | Agriculture Production And Management | Agriculture &amp; Natural Resources |  95326 | 76865 | 64240 | 2266 | 0.02863606 | 36000 | 54000 | 80000 |\n",
       "| 1102 | Agricultural Economics                | Agriculture &amp; Natural Resources |  33955 | 26321 | 22810 |  821 | 0.03024832 | 40000 | 63000 | 98000 |\n",
       "| 1103 | Animal Sciences                       | Agriculture &amp; Natural Resources | 103549 | 81177 | 64937 | 3619 | 0.04267890 | 30000 | 46000 | 72000 |\n",
       "| 1104 | Food Science                          | Agriculture &amp; Natural Resources |  24280 | 17281 | 12722 |  894 | 0.04918845 | 38500 | 62000 | 90000 |\n",
       "| 1105 | Plant Science And Agronomy            | Agriculture &amp; Natural Resources |  79409 | 63043 | 51077 | 2070 | 0.03179089 | 35000 | 50000 | 75000 |\n",
       "\n"
      ],
      "text/plain": [
       "  major_code major                                \n",
       "1 1100       General Agriculture                  \n",
       "2 1101       Agriculture Production And Management\n",
       "3 1102       Agricultural Economics               \n",
       "4 1103       Animal Sciences                      \n",
       "5 1104       Food Science                         \n",
       "6 1105       Plant Science And Agronomy           \n",
       "  major_category                  total  employed employed_fulltime_yearround\n",
       "1 Agriculture & Natural Resources 128148 90245    74078                      \n",
       "2 Agriculture & Natural Resources  95326 76865    64240                      \n",
       "3 Agriculture & Natural Resources  33955 26321    22810                      \n",
       "4 Agriculture & Natural Resources 103549 81177    64937                      \n",
       "5 Agriculture & Natural Resources  24280 17281    12722                      \n",
       "6 Agriculture & Natural Resources  79409 63043    51077                      \n",
       "  unemployed unemployment_rate p25th median p75th\n",
       "1 2423       0.02614711        34000 50000  80000\n",
       "2 2266       0.02863606        36000 54000  80000\n",
       "3  821       0.03024832        40000 63000  98000\n",
       "4 3619       0.04267890        30000 46000  72000\n",
       "5  894       0.04918845        38500 62000  90000\n",
       "6 2070       0.03179089        35000 50000  75000"
      ]
     },
     "metadata": {},
     "output_type": "display_data"
    }
   ],
   "source": [
    "# examine the top 6 rows\n",
    "head(college_all_ages)"
   ]
  },
  {
   "cell_type": "markdown",
   "id": "analyzed-chicken",
   "metadata": {},
   "source": [
    "We can see that there aren't any factors - major and minor category are both character columns"
   ]
  },
  {
   "cell_type": "code",
   "execution_count": 14,
   "id": "initial-brother",
   "metadata": {},
   "outputs": [
    {
     "data": {
      "text/html": [
       "FALSE"
      ],
      "text/latex": [
       "FALSE"
      ],
      "text/markdown": [
       "FALSE"
      ],
      "text/plain": [
       "[1] FALSE"
      ]
     },
     "metadata": {},
     "output_type": "display_data"
    }
   ],
   "source": [
    "# apply the is.factor() method to major category column\n",
    "college_all_ages %>% # take the data frame\n",
    "select(major_category) %>% # select the major category column\n",
    "is.factor() # apply the is.factor method"
   ]
  },
  {
   "cell_type": "code",
   "execution_count": 15,
   "id": "prospective-champion",
   "metadata": {},
   "outputs": [
    {
     "name": "stdout",
     "output_type": "stream",
     "text": [
      "Rows: 173\n",
      "Columns: 11\n",
      "$ major_code                  <int> 1100, 1101, 1102, 1103, 1104, 1105, 1106, ~\n",
      "$ major                       <chr> \"General Agriculture\", \"Agriculture Produc~\n",
      "$ major_category              <chr> \"Agriculture & Natural Resources\", \"Agricu~\n",
      "$ total                       <int> 128148, 95326, 33955, 103549, 24280, 79409~\n",
      "$ employed                    <int> 90245, 76865, 26321, 81177, 17281, 63043, ~\n",
      "$ employed_fulltime_yearround <int> 74078, 64240, 22810, 64937, 12722, 51077, ~\n",
      "$ unemployed                  <int> 2423, 2266, 821, 3619, 894, 2070, 264, 261~\n",
      "$ unemployment_rate           <dbl> 0.02614711, 0.02863606, 0.03024832, 0.0426~\n",
      "$ p25th                       <dbl> 34000, 36000, 40000, 30000, 38500, 35000, ~\n",
      "$ median                      <dbl> 50000, 54000, 63000, 46000, 62000, 50000, ~\n",
      "$ p75th                       <dbl> 80000, 80000, 98000, 72000, 90000, 75000, ~\n"
     ]
    }
   ],
   "source": [
    "# using the glimpse method\n",
    "glimpse(college_all_ages)"
   ]
  },
  {
   "cell_type": "markdown",
   "id": "stuck-application",
   "metadata": {},
   "source": [
    "Let us load the Kaggle’s State of Data Science and ML Survey"
   ]
  },
  {
   "cell_type": "code",
   "execution_count": 16,
   "id": "plain-bhutan",
   "metadata": {},
   "outputs": [
    {
     "name": "stderr",
     "output_type": "stream",
     "text": [
      "Parsed with column specification:\n",
      "cols(\n",
      "  .default = col_character(),\n",
      "  Age = col_double()\n",
      ")\n",
      "See spec(...) for full column specifications.\n"
     ]
    }
   ],
   "source": [
    "# read the kaggle_mcq_responses dataset into a dataframe kaggle_response\n",
    "kaggle_response <- read_csv(\"kaggle_mcq_responses.csv\")"
   ]
  },
  {
   "cell_type": "code",
   "execution_count": 17,
   "id": "handed-disney",
   "metadata": {},
   "outputs": [
    {
     "data": {
      "text/html": [
       "<table>\n",
       "<caption>A tibble: 6 × 48</caption>\n",
       "<thead>\n",
       "\t<tr><th scope=col>LearningPlatformUsefulnessArxiv</th><th scope=col>LearningPlatformUsefulnessBlogs</th><th scope=col>LearningPlatformUsefulnessCollege</th><th scope=col>LearningPlatformUsefulnessCompany</th><th scope=col>LearningPlatformUsefulnessConferences</th><th scope=col>LearningPlatformUsefulnessFriends</th><th scope=col>LearningPlatformUsefulnessKaggle</th><th scope=col>LearningPlatformUsefulnessNewsletters</th><th scope=col>LearningPlatformUsefulnessCommunities</th><th scope=col>LearningPlatformUsefulnessDocumentation</th><th scope=col>...</th><th scope=col>WorkChallengeFrequencyScaling</th><th scope=col>WorkChallengeFrequencyEnvironments</th><th scope=col>WorkChallengeFrequencyClarity</th><th scope=col>WorkChallengeFrequencyDataAccess</th><th scope=col>WorkChallengeFrequencyOtherSelect</th><th scope=col>WorkInternalVsExternalTools</th><th scope=col>FormalEducation</th><th scope=col>Age</th><th scope=col>DataScienceIdentitySelect</th><th scope=col>JobSatisfaction</th></tr>\n",
       "\t<tr><th scope=col>&lt;chr&gt;</th><th scope=col>&lt;chr&gt;</th><th scope=col>&lt;chr&gt;</th><th scope=col>&lt;chr&gt;</th><th scope=col>&lt;chr&gt;</th><th scope=col>&lt;chr&gt;</th><th scope=col>&lt;chr&gt;</th><th scope=col>&lt;chr&gt;</th><th scope=col>&lt;chr&gt;</th><th scope=col>&lt;chr&gt;</th><th scope=col>...</th><th scope=col>&lt;chr&gt;</th><th scope=col>&lt;chr&gt;</th><th scope=col>&lt;chr&gt;</th><th scope=col>&lt;chr&gt;</th><th scope=col>&lt;chr&gt;</th><th scope=col>&lt;chr&gt;</th><th scope=col>&lt;chr&gt;</th><th scope=col>&lt;dbl&gt;</th><th scope=col>&lt;chr&gt;</th><th scope=col>&lt;chr&gt;</th></tr>\n",
       "</thead>\n",
       "<tbody>\n",
       "\t<tr><td>NA         </td><td>NA         </td><td>NA             </td><td>NA</td><td>Very useful    </td><td>NA         </td><td>NA             </td><td>NA</td><td>NA</td><td>NA         </td><td>...</td><td>Most of the time</td><td>NA       </td><td>NA   </td><td>NA   </td><td>NA</td><td>Do not know                                  </td><td>Bachelor's degree</td><td>NA</td><td>Yes</td><td>5                    </td></tr>\n",
       "\t<tr><td>NA         </td><td>NA         </td><td>NA             </td><td>NA</td><td>NA             </td><td>NA         </td><td>Somewhat useful</td><td>NA</td><td>NA</td><td>NA         </td><td>...</td><td>NA              </td><td>NA       </td><td>NA   </td><td>NA   </td><td>NA</td><td>NA                                           </td><td>Master's degree  </td><td>30</td><td>Yes</td><td>NA                   </td></tr>\n",
       "\t<tr><td>Very useful</td><td>NA         </td><td>Somewhat useful</td><td>NA</td><td>NA             </td><td>NA         </td><td>Somewhat useful</td><td>NA</td><td>NA</td><td>NA         </td><td>...</td><td>NA              </td><td>NA       </td><td>NA   </td><td>NA   </td><td>NA</td><td>NA                                           </td><td>Master's degree  </td><td>28</td><td>Yes</td><td>NA                   </td></tr>\n",
       "\t<tr><td>NA         </td><td>Very useful</td><td>Very useful    </td><td>NA</td><td>Very useful    </td><td>Very useful</td><td>NA             </td><td>NA</td><td>NA</td><td>Very useful</td><td>...</td><td>Often           </td><td>Often    </td><td>Often</td><td>Often</td><td>NA</td><td>Entirely internal                            </td><td>Master's degree  </td><td>56</td><td>Yes</td><td>10 - Highly Satisfied</td></tr>\n",
       "\t<tr><td>Very useful</td><td>NA         </td><td>NA             </td><td>NA</td><td>Somewhat useful</td><td>NA         </td><td>Somewhat useful</td><td>NA</td><td>NA</td><td>NA         </td><td>...</td><td>NA              </td><td>Sometimes</td><td>NA   </td><td>NA   </td><td>NA</td><td>Approximately half internal and half external</td><td>Doctoral degree  </td><td>38</td><td>No </td><td>2                    </td></tr>\n",
       "\t<tr><td>NA         </td><td>NA         </td><td>NA             </td><td>NA</td><td>NA             </td><td>NA         </td><td>Very useful    </td><td>NA</td><td>NA</td><td>NA         </td><td>...</td><td>NA              </td><td>NA       </td><td>NA   </td><td>NA   </td><td>NA</td><td>More internal than external                  </td><td>Doctoral degree  </td><td>46</td><td>NA </td><td>8                    </td></tr>\n",
       "</tbody>\n",
       "</table>\n"
      ],
      "text/latex": [
       "A tibble: 6 × 48\n",
       "\\begin{tabular}{lllllllllllllllllllll}\n",
       " LearningPlatformUsefulnessArxiv & LearningPlatformUsefulnessBlogs & LearningPlatformUsefulnessCollege & LearningPlatformUsefulnessCompany & LearningPlatformUsefulnessConferences & LearningPlatformUsefulnessFriends & LearningPlatformUsefulnessKaggle & LearningPlatformUsefulnessNewsletters & LearningPlatformUsefulnessCommunities & LearningPlatformUsefulnessDocumentation & ... & WorkChallengeFrequencyScaling & WorkChallengeFrequencyEnvironments & WorkChallengeFrequencyClarity & WorkChallengeFrequencyDataAccess & WorkChallengeFrequencyOtherSelect & WorkInternalVsExternalTools & FormalEducation & Age & DataScienceIdentitySelect & JobSatisfaction\\\\\n",
       " <chr> & <chr> & <chr> & <chr> & <chr> & <chr> & <chr> & <chr> & <chr> & <chr> & ... & <chr> & <chr> & <chr> & <chr> & <chr> & <chr> & <chr> & <dbl> & <chr> & <chr>\\\\\n",
       "\\hline\n",
       "\t NA          & NA          & NA              & NA & Very useful     & NA          & NA              & NA & NA & NA          & ... & Most of the time & NA        & NA    & NA    & NA & Do not know                                   & Bachelor's degree & NA & Yes & 5                    \\\\\n",
       "\t NA          & NA          & NA              & NA & NA              & NA          & Somewhat useful & NA & NA & NA          & ... & NA               & NA        & NA    & NA    & NA & NA                                            & Master's degree   & 30 & Yes & NA                   \\\\\n",
       "\t Very useful & NA          & Somewhat useful & NA & NA              & NA          & Somewhat useful & NA & NA & NA          & ... & NA               & NA        & NA    & NA    & NA & NA                                            & Master's degree   & 28 & Yes & NA                   \\\\\n",
       "\t NA          & Very useful & Very useful     & NA & Very useful     & Very useful & NA              & NA & NA & Very useful & ... & Often            & Often     & Often & Often & NA & Entirely internal                             & Master's degree   & 56 & Yes & 10 - Highly Satisfied\\\\\n",
       "\t Very useful & NA          & NA              & NA & Somewhat useful & NA          & Somewhat useful & NA & NA & NA          & ... & NA               & Sometimes & NA    & NA    & NA & Approximately half internal and half external & Doctoral degree   & 38 & No  & 2                    \\\\\n",
       "\t NA          & NA          & NA              & NA & NA              & NA          & Very useful     & NA & NA & NA          & ... & NA               & NA        & NA    & NA    & NA & More internal than external                   & Doctoral degree   & 46 & NA  & 8                    \\\\\n",
       "\\end{tabular}\n"
      ],
      "text/markdown": [
       "\n",
       "A tibble: 6 × 48\n",
       "\n",
       "| LearningPlatformUsefulnessArxiv &lt;chr&gt; | LearningPlatformUsefulnessBlogs &lt;chr&gt; | LearningPlatformUsefulnessCollege &lt;chr&gt; | LearningPlatformUsefulnessCompany &lt;chr&gt; | LearningPlatformUsefulnessConferences &lt;chr&gt; | LearningPlatformUsefulnessFriends &lt;chr&gt; | LearningPlatformUsefulnessKaggle &lt;chr&gt; | LearningPlatformUsefulnessNewsletters &lt;chr&gt; | LearningPlatformUsefulnessCommunities &lt;chr&gt; | LearningPlatformUsefulnessDocumentation &lt;chr&gt; | ... ... | WorkChallengeFrequencyScaling &lt;chr&gt; | WorkChallengeFrequencyEnvironments &lt;chr&gt; | WorkChallengeFrequencyClarity &lt;chr&gt; | WorkChallengeFrequencyDataAccess &lt;chr&gt; | WorkChallengeFrequencyOtherSelect &lt;chr&gt; | WorkInternalVsExternalTools &lt;chr&gt; | FormalEducation &lt;chr&gt; | Age &lt;dbl&gt; | DataScienceIdentitySelect &lt;chr&gt; | JobSatisfaction &lt;chr&gt; |\n",
       "|---|---|---|---|---|---|---|---|---|---|---|---|---|---|---|---|---|---|---|---|---|\n",
       "| NA          | NA          | NA              | NA | Very useful     | NA          | NA              | NA | NA | NA          | ... | Most of the time | NA        | NA    | NA    | NA | Do not know                                   | Bachelor's degree | NA | Yes | 5                     |\n",
       "| NA          | NA          | NA              | NA | NA              | NA          | Somewhat useful | NA | NA | NA          | ... | NA               | NA        | NA    | NA    | NA | NA                                            | Master's degree   | 30 | Yes | NA                    |\n",
       "| Very useful | NA          | Somewhat useful | NA | NA              | NA          | Somewhat useful | NA | NA | NA          | ... | NA               | NA        | NA    | NA    | NA | NA                                            | Master's degree   | 28 | Yes | NA                    |\n",
       "| NA          | Very useful | Very useful     | NA | Very useful     | Very useful | NA              | NA | NA | Very useful | ... | Often            | Often     | Often | Often | NA | Entirely internal                             | Master's degree   | 56 | Yes | 10 - Highly Satisfied |\n",
       "| Very useful | NA          | NA              | NA | Somewhat useful | NA          | Somewhat useful | NA | NA | NA          | ... | NA               | Sometimes | NA    | NA    | NA | Approximately half internal and half external | Doctoral degree   | 38 | No  | 2                     |\n",
       "| NA          | NA          | NA              | NA | NA              | NA          | Very useful     | NA | NA | NA          | ... | NA               | NA        | NA    | NA    | NA | More internal than external                   | Doctoral degree   | 46 | NA  | 8                     |\n",
       "\n"
      ],
      "text/plain": [
       "  LearningPlatformUsefulnessArxiv LearningPlatformUsefulnessBlogs\n",
       "1 NA                              NA                             \n",
       "2 NA                              NA                             \n",
       "3 Very useful                     NA                             \n",
       "4 NA                              Very useful                    \n",
       "5 Very useful                     NA                             \n",
       "6 NA                              NA                             \n",
       "  LearningPlatformUsefulnessCollege LearningPlatformUsefulnessCompany\n",
       "1 NA                                NA                               \n",
       "2 NA                                NA                               \n",
       "3 Somewhat useful                   NA                               \n",
       "4 Very useful                       NA                               \n",
       "5 NA                                NA                               \n",
       "6 NA                                NA                               \n",
       "  LearningPlatformUsefulnessConferences LearningPlatformUsefulnessFriends\n",
       "1 Very useful                           NA                               \n",
       "2 NA                                    NA                               \n",
       "3 NA                                    NA                               \n",
       "4 Very useful                           Very useful                      \n",
       "5 Somewhat useful                       NA                               \n",
       "6 NA                                    NA                               \n",
       "  LearningPlatformUsefulnessKaggle LearningPlatformUsefulnessNewsletters\n",
       "1 NA                               NA                                   \n",
       "2 Somewhat useful                  NA                                   \n",
       "3 Somewhat useful                  NA                                   \n",
       "4 NA                               NA                                   \n",
       "5 Somewhat useful                  NA                                   \n",
       "6 Very useful                      NA                                   \n",
       "  LearningPlatformUsefulnessCommunities LearningPlatformUsefulnessDocumentation\n",
       "1 NA                                    NA                                     \n",
       "2 NA                                    NA                                     \n",
       "3 NA                                    NA                                     \n",
       "4 NA                                    Very useful                            \n",
       "5 NA                                    NA                                     \n",
       "6 NA                                    NA                                     \n",
       "  ... WorkChallengeFrequencyScaling WorkChallengeFrequencyEnvironments\n",
       "1 ... Most of the time              NA                                \n",
       "2 ... NA                            NA                                \n",
       "3 ... NA                            NA                                \n",
       "4 ... Often                         Often                             \n",
       "5 ... NA                            Sometimes                         \n",
       "6 ... NA                            NA                                \n",
       "  WorkChallengeFrequencyClarity WorkChallengeFrequencyDataAccess\n",
       "1 NA                            NA                              \n",
       "2 NA                            NA                              \n",
       "3 NA                            NA                              \n",
       "4 Often                         Often                           \n",
       "5 NA                            NA                              \n",
       "6 NA                            NA                              \n",
       "  WorkChallengeFrequencyOtherSelect\n",
       "1 NA                               \n",
       "2 NA                               \n",
       "3 NA                               \n",
       "4 NA                               \n",
       "5 NA                               \n",
       "6 NA                               \n",
       "  WorkInternalVsExternalTools                   FormalEducation   Age\n",
       "1 Do not know                                   Bachelor's degree NA \n",
       "2 NA                                            Master's degree   30 \n",
       "3 NA                                            Master's degree   28 \n",
       "4 Entirely internal                             Master's degree   56 \n",
       "5 Approximately half internal and half external Doctoral degree   38 \n",
       "6 More internal than external                   Doctoral degree   46 \n",
       "  DataScienceIdentitySelect JobSatisfaction      \n",
       "1 Yes                       5                    \n",
       "2 Yes                       NA                   \n",
       "3 Yes                       NA                   \n",
       "4 Yes                       10 - Highly Satisfied\n",
       "5 No                        2                    \n",
       "6 NA                        8                    "
      ]
     },
     "metadata": {},
     "output_type": "display_data"
    }
   ],
   "source": [
    "# top 6 rows\n",
    "head(kaggle_response)"
   ]
  },
  {
   "cell_type": "code",
   "execution_count": 18,
   "id": "warming-beads",
   "metadata": {},
   "outputs": [
    {
     "name": "stdout",
     "output_type": "stream",
     "text": [
      "Rows: 16,716\n",
      "Columns: 48\n",
      "$ LearningPlatformUsefulnessArxiv             <chr> NA, NA, \"Very useful\", NA,~\n",
      "$ LearningPlatformUsefulnessBlogs             <chr> NA, NA, NA, \"Very useful\",~\n",
      "$ LearningPlatformUsefulnessCollege           <chr> NA, NA, \"Somewhat useful\",~\n",
      "$ LearningPlatformUsefulnessCompany           <chr> NA, NA, NA, NA, NA, NA, NA~\n",
      "$ LearningPlatformUsefulnessConferences       <chr> \"Very useful\", NA, NA, \"Ve~\n",
      "$ LearningPlatformUsefulnessFriends           <chr> NA, NA, NA, \"Very useful\",~\n",
      "$ LearningPlatformUsefulnessKaggle            <chr> NA, \"Somewhat useful\", \"So~\n",
      "$ LearningPlatformUsefulnessNewsletters       <chr> NA, NA, NA, NA, NA, NA, NA~\n",
      "$ LearningPlatformUsefulnessCommunities       <chr> NA, NA, NA, NA, NA, NA, NA~\n",
      "$ LearningPlatformUsefulnessDocumentation     <chr> NA, NA, NA, \"Very useful\",~\n",
      "$ LearningPlatformUsefulnessCourses           <chr> NA, NA, \"Very useful\", \"Ve~\n",
      "$ LearningPlatformUsefulnessProjects          <chr> NA, NA, NA, \"Very useful\",~\n",
      "$ LearningPlatformUsefulnessPodcasts          <chr> \"Very useful\", NA, NA, NA,~\n",
      "$ LearningPlatformUsefulnessSO                <chr> NA, NA, NA, NA, NA, \"Very ~\n",
      "$ LearningPlatformUsefulnessTextbook          <chr> NA, NA, NA, NA, \"Somewhat ~\n",
      "$ LearningPlatformUsefulnessTradeBook         <chr> \"Somewhat useful\", NA, NA,~\n",
      "$ LearningPlatformUsefulnessTutoring          <chr> NA, NA, NA, NA, NA, NA, NA~\n",
      "$ LearningPlatformUsefulnessYouTube           <chr> NA, NA, \"Very useful\", NA,~\n",
      "$ CurrentJobTitleSelect                       <chr> \"DBA/Database Engineer\", N~\n",
      "$ MLMethodNextYearSelect                      <chr> \"Random Forests\", \"Random ~\n",
      "$ LearningDataScienceTime                     <chr> NA, \"1-2 years\", \"1-2 year~\n",
      "$ WorkChallengeFrequencyPolitics              <chr> \"Rarely\", NA, NA, \"Often\",~\n",
      "$ WorkChallengeFrequencyUnusedResults         <chr> NA, NA, NA, \"Often\", \"Some~\n",
      "$ WorkChallengeFrequencyUnusefulInstrumenting <chr> NA, NA, NA, \"Often\", NA, N~\n",
      "$ WorkChallengeFrequencyDeployment            <chr> NA, NA, NA, \"Often\", NA, N~\n",
      "$ WorkChallengeFrequencyDirtyData             <chr> NA, NA, NA, \"Often\", NA, \"~\n",
      "$ WorkChallengeFrequencyExplaining            <chr> NA, NA, NA, \"Often\", NA, N~\n",
      "$ WorkChallengeFrequencyPass                  <chr> NA, NA, NA, NA, NA, NA, NA~\n",
      "$ WorkChallengeFrequencyIntegration           <chr> NA, NA, NA, \"Often\", NA, N~\n",
      "$ WorkChallengeFrequencyTalent                <chr> NA, NA, NA, \"Often\", \"Some~\n",
      "$ WorkChallengeFrequencyDataFunds             <chr> NA, NA, NA, \"Often\", \"Some~\n",
      "$ WorkChallengeFrequencyDomainExpertise       <chr> NA, NA, NA, \"Most of the t~\n",
      "$ WorkChallengeFrequencyML                    <chr> NA, NA, NA, \"Often\", NA, N~\n",
      "$ WorkChallengeFrequencyTools                 <chr> NA, NA, NA, \"Often\", NA, N~\n",
      "$ WorkChallengeFrequencyExpectations          <chr> NA, NA, NA, \"Often\", NA, N~\n",
      "$ WorkChallengeFrequencyITCoordination        <chr> NA, NA, NA, NA, \"Sometimes~\n",
      "$ WorkChallengeFrequencyHiringFunds           <chr> NA, NA, NA, \"Often\", NA, N~\n",
      "$ WorkChallengeFrequencyPrivacy               <chr> \"Often\", NA, NA, \"Often\", ~\n",
      "$ WorkChallengeFrequencyScaling               <chr> \"Most of the time\", NA, NA~\n",
      "$ WorkChallengeFrequencyEnvironments          <chr> NA, NA, NA, \"Often\", \"Some~\n",
      "$ WorkChallengeFrequencyClarity               <chr> NA, NA, NA, \"Often\", NA, N~\n",
      "$ WorkChallengeFrequencyDataAccess            <chr> NA, NA, NA, \"Often\", NA, N~\n",
      "$ WorkChallengeFrequencyOtherSelect           <chr> NA, NA, NA, NA, NA, NA, NA~\n",
      "$ WorkInternalVsExternalTools                 <chr> \"Do not know\", NA, NA, \"En~\n",
      "$ FormalEducation                             <chr> \"Bachelor's degree\", \"Mast~\n",
      "$ Age                                         <dbl> NA, 30, 28, 56, 38, 46, 35~\n",
      "$ DataScienceIdentitySelect                   <chr> \"Yes\", \"Yes\", \"Yes\", \"Yes\"~\n",
      "$ JobSatisfaction                             <chr> \"5\", NA, NA, \"10 - Highly ~\n"
     ]
    }
   ],
   "source": [
    "# the glimpse method\n",
    "glimpse(kaggle_response)"
   ]
  },
  {
   "cell_type": "markdown",
   "id": "aboriginal-midwest",
   "metadata": {},
   "source": [
    "### Converting Characters to Factors  \n",
    "As with numerical variables, our first step when looking at categorical variables would be to get a high-level summary. Instead of numerical summaries, like the mean and the standard deviation, we can look at the number of categories and the name of each. What if we observe that some of the variables in our dataset are characters and not factors. How can we change this?  \n",
    "\n",
    "Step 1 : Identify which columns are characters by using is.character() for this.   \n",
    "\n",
    "Step 2 : Apply the function as.factor() to change columns from characters to factors.   \n",
    "\n",
    "Extension : If we want to do this for all character columns, we can take advantage of dplyr's mutate_if() function. This function takes two arguments. The first needs to be a function that returns true or false. mutate_if() will check each column to see if that condition is true and if so, will change the column based on the second argument.e.g. mutate_is(is.character , as.factor) converts all character columns to factors    \n",
    "\n",
    "**Let us validate the data type for the LearningDataScienceTime column**"
   ]
  },
  {
   "cell_type": "code",
   "execution_count": 19,
   "id": "registered-instruction",
   "metadata": {},
   "outputs": [
    {
     "data": {
      "text/html": [
       "TRUE"
      ],
      "text/latex": [
       "TRUE"
      ],
      "text/markdown": [
       "TRUE"
      ],
      "text/plain": [
       "[1] TRUE"
      ]
     },
     "metadata": {},
     "output_type": "display_data"
    }
   ],
   "source": [
    "# Validate if LearningDataScienceTime data type is a character\n",
    "is.character(kaggle_response$LearningDataScienceTime)"
   ]
  },
  {
   "cell_type": "markdown",
   "id": "certified-presence",
   "metadata": {},
   "source": [
    "**Let us now convert all the character columns to factors applying the mutate_if() function**"
   ]
  },
  {
   "cell_type": "code",
   "execution_count": 20,
   "id": "informal-housing",
   "metadata": {},
   "outputs": [
    {
     "data": {
      "text/html": [
       "<table>\n",
       "<caption>A tibble: 6 × 48</caption>\n",
       "<thead>\n",
       "\t<tr><th scope=col>LearningPlatformUsefulnessArxiv</th><th scope=col>LearningPlatformUsefulnessBlogs</th><th scope=col>LearningPlatformUsefulnessCollege</th><th scope=col>LearningPlatformUsefulnessCompany</th><th scope=col>LearningPlatformUsefulnessConferences</th><th scope=col>LearningPlatformUsefulnessFriends</th><th scope=col>LearningPlatformUsefulnessKaggle</th><th scope=col>LearningPlatformUsefulnessNewsletters</th><th scope=col>LearningPlatformUsefulnessCommunities</th><th scope=col>LearningPlatformUsefulnessDocumentation</th><th scope=col>...</th><th scope=col>WorkChallengeFrequencyScaling</th><th scope=col>WorkChallengeFrequencyEnvironments</th><th scope=col>WorkChallengeFrequencyClarity</th><th scope=col>WorkChallengeFrequencyDataAccess</th><th scope=col>WorkChallengeFrequencyOtherSelect</th><th scope=col>WorkInternalVsExternalTools</th><th scope=col>FormalEducation</th><th scope=col>Age</th><th scope=col>DataScienceIdentitySelect</th><th scope=col>JobSatisfaction</th></tr>\n",
       "\t<tr><th scope=col>&lt;fct&gt;</th><th scope=col>&lt;fct&gt;</th><th scope=col>&lt;fct&gt;</th><th scope=col>&lt;fct&gt;</th><th scope=col>&lt;fct&gt;</th><th scope=col>&lt;fct&gt;</th><th scope=col>&lt;fct&gt;</th><th scope=col>&lt;fct&gt;</th><th scope=col>&lt;fct&gt;</th><th scope=col>&lt;fct&gt;</th><th scope=col>...</th><th scope=col>&lt;fct&gt;</th><th scope=col>&lt;fct&gt;</th><th scope=col>&lt;fct&gt;</th><th scope=col>&lt;fct&gt;</th><th scope=col>&lt;fct&gt;</th><th scope=col>&lt;fct&gt;</th><th scope=col>&lt;fct&gt;</th><th scope=col>&lt;dbl&gt;</th><th scope=col>&lt;fct&gt;</th><th scope=col>&lt;fct&gt;</th></tr>\n",
       "</thead>\n",
       "<tbody>\n",
       "\t<tr><td>NA         </td><td>NA         </td><td>NA             </td><td>NA</td><td>Very useful    </td><td>NA         </td><td>NA             </td><td>NA</td><td>NA</td><td>NA         </td><td>...</td><td>Most of the time</td><td>NA       </td><td>NA   </td><td>NA   </td><td>NA</td><td>Do not know                                  </td><td>Bachelor's degree</td><td>NA</td><td>Yes</td><td>5                    </td></tr>\n",
       "\t<tr><td>NA         </td><td>NA         </td><td>NA             </td><td>NA</td><td>NA             </td><td>NA         </td><td>Somewhat useful</td><td>NA</td><td>NA</td><td>NA         </td><td>...</td><td>NA              </td><td>NA       </td><td>NA   </td><td>NA   </td><td>NA</td><td>NA                                           </td><td>Master's degree  </td><td>30</td><td>Yes</td><td>NA                   </td></tr>\n",
       "\t<tr><td>Very useful</td><td>NA         </td><td>Somewhat useful</td><td>NA</td><td>NA             </td><td>NA         </td><td>Somewhat useful</td><td>NA</td><td>NA</td><td>NA         </td><td>...</td><td>NA              </td><td>NA       </td><td>NA   </td><td>NA   </td><td>NA</td><td>NA                                           </td><td>Master's degree  </td><td>28</td><td>Yes</td><td>NA                   </td></tr>\n",
       "\t<tr><td>NA         </td><td>Very useful</td><td>Very useful    </td><td>NA</td><td>Very useful    </td><td>Very useful</td><td>NA             </td><td>NA</td><td>NA</td><td>Very useful</td><td>...</td><td>Often           </td><td>Often    </td><td>Often</td><td>Often</td><td>NA</td><td>Entirely internal                            </td><td>Master's degree  </td><td>56</td><td>Yes</td><td>10 - Highly Satisfied</td></tr>\n",
       "\t<tr><td>Very useful</td><td>NA         </td><td>NA             </td><td>NA</td><td>Somewhat useful</td><td>NA         </td><td>Somewhat useful</td><td>NA</td><td>NA</td><td>NA         </td><td>...</td><td>NA              </td><td>Sometimes</td><td>NA   </td><td>NA   </td><td>NA</td><td>Approximately half internal and half external</td><td>Doctoral degree  </td><td>38</td><td>No </td><td>2                    </td></tr>\n",
       "\t<tr><td>NA         </td><td>NA         </td><td>NA             </td><td>NA</td><td>NA             </td><td>NA         </td><td>Very useful    </td><td>NA</td><td>NA</td><td>NA         </td><td>...</td><td>NA              </td><td>NA       </td><td>NA   </td><td>NA   </td><td>NA</td><td>More internal than external                  </td><td>Doctoral degree  </td><td>46</td><td>NA </td><td>8                    </td></tr>\n",
       "</tbody>\n",
       "</table>\n"
      ],
      "text/latex": [
       "A tibble: 6 × 48\n",
       "\\begin{tabular}{lllllllllllllllllllll}\n",
       " LearningPlatformUsefulnessArxiv & LearningPlatformUsefulnessBlogs & LearningPlatformUsefulnessCollege & LearningPlatformUsefulnessCompany & LearningPlatformUsefulnessConferences & LearningPlatformUsefulnessFriends & LearningPlatformUsefulnessKaggle & LearningPlatformUsefulnessNewsletters & LearningPlatformUsefulnessCommunities & LearningPlatformUsefulnessDocumentation & ... & WorkChallengeFrequencyScaling & WorkChallengeFrequencyEnvironments & WorkChallengeFrequencyClarity & WorkChallengeFrequencyDataAccess & WorkChallengeFrequencyOtherSelect & WorkInternalVsExternalTools & FormalEducation & Age & DataScienceIdentitySelect & JobSatisfaction\\\\\n",
       " <fct> & <fct> & <fct> & <fct> & <fct> & <fct> & <fct> & <fct> & <fct> & <fct> & ... & <fct> & <fct> & <fct> & <fct> & <fct> & <fct> & <fct> & <dbl> & <fct> & <fct>\\\\\n",
       "\\hline\n",
       "\t NA          & NA          & NA              & NA & Very useful     & NA          & NA              & NA & NA & NA          & ... & Most of the time & NA        & NA    & NA    & NA & Do not know                                   & Bachelor's degree & NA & Yes & 5                    \\\\\n",
       "\t NA          & NA          & NA              & NA & NA              & NA          & Somewhat useful & NA & NA & NA          & ... & NA               & NA        & NA    & NA    & NA & NA                                            & Master's degree   & 30 & Yes & NA                   \\\\\n",
       "\t Very useful & NA          & Somewhat useful & NA & NA              & NA          & Somewhat useful & NA & NA & NA          & ... & NA               & NA        & NA    & NA    & NA & NA                                            & Master's degree   & 28 & Yes & NA                   \\\\\n",
       "\t NA          & Very useful & Very useful     & NA & Very useful     & Very useful & NA              & NA & NA & Very useful & ... & Often            & Often     & Often & Often & NA & Entirely internal                             & Master's degree   & 56 & Yes & 10 - Highly Satisfied\\\\\n",
       "\t Very useful & NA          & NA              & NA & Somewhat useful & NA          & Somewhat useful & NA & NA & NA          & ... & NA               & Sometimes & NA    & NA    & NA & Approximately half internal and half external & Doctoral degree   & 38 & No  & 2                    \\\\\n",
       "\t NA          & NA          & NA              & NA & NA              & NA          & Very useful     & NA & NA & NA          & ... & NA               & NA        & NA    & NA    & NA & More internal than external                   & Doctoral degree   & 46 & NA  & 8                    \\\\\n",
       "\\end{tabular}\n"
      ],
      "text/markdown": [
       "\n",
       "A tibble: 6 × 48\n",
       "\n",
       "| LearningPlatformUsefulnessArxiv &lt;fct&gt; | LearningPlatformUsefulnessBlogs &lt;fct&gt; | LearningPlatformUsefulnessCollege &lt;fct&gt; | LearningPlatformUsefulnessCompany &lt;fct&gt; | LearningPlatformUsefulnessConferences &lt;fct&gt; | LearningPlatformUsefulnessFriends &lt;fct&gt; | LearningPlatformUsefulnessKaggle &lt;fct&gt; | LearningPlatformUsefulnessNewsletters &lt;fct&gt; | LearningPlatformUsefulnessCommunities &lt;fct&gt; | LearningPlatformUsefulnessDocumentation &lt;fct&gt; | ... ... | WorkChallengeFrequencyScaling &lt;fct&gt; | WorkChallengeFrequencyEnvironments &lt;fct&gt; | WorkChallengeFrequencyClarity &lt;fct&gt; | WorkChallengeFrequencyDataAccess &lt;fct&gt; | WorkChallengeFrequencyOtherSelect &lt;fct&gt; | WorkInternalVsExternalTools &lt;fct&gt; | FormalEducation &lt;fct&gt; | Age &lt;dbl&gt; | DataScienceIdentitySelect &lt;fct&gt; | JobSatisfaction &lt;fct&gt; |\n",
       "|---|---|---|---|---|---|---|---|---|---|---|---|---|---|---|---|---|---|---|---|---|\n",
       "| NA          | NA          | NA              | NA | Very useful     | NA          | NA              | NA | NA | NA          | ... | Most of the time | NA        | NA    | NA    | NA | Do not know                                   | Bachelor's degree | NA | Yes | 5                     |\n",
       "| NA          | NA          | NA              | NA | NA              | NA          | Somewhat useful | NA | NA | NA          | ... | NA               | NA        | NA    | NA    | NA | NA                                            | Master's degree   | 30 | Yes | NA                    |\n",
       "| Very useful | NA          | Somewhat useful | NA | NA              | NA          | Somewhat useful | NA | NA | NA          | ... | NA               | NA        | NA    | NA    | NA | NA                                            | Master's degree   | 28 | Yes | NA                    |\n",
       "| NA          | Very useful | Very useful     | NA | Very useful     | Very useful | NA              | NA | NA | Very useful | ... | Often            | Often     | Often | Often | NA | Entirely internal                             | Master's degree   | 56 | Yes | 10 - Highly Satisfied |\n",
       "| Very useful | NA          | NA              | NA | Somewhat useful | NA          | Somewhat useful | NA | NA | NA          | ... | NA               | Sometimes | NA    | NA    | NA | Approximately half internal and half external | Doctoral degree   | 38 | No  | 2                     |\n",
       "| NA          | NA          | NA              | NA | NA              | NA          | Very useful     | NA | NA | NA          | ... | NA               | NA        | NA    | NA    | NA | More internal than external                   | Doctoral degree   | 46 | NA  | 8                     |\n",
       "\n"
      ],
      "text/plain": [
       "  LearningPlatformUsefulnessArxiv LearningPlatformUsefulnessBlogs\n",
       "1 NA                              NA                             \n",
       "2 NA                              NA                             \n",
       "3 Very useful                     NA                             \n",
       "4 NA                              Very useful                    \n",
       "5 Very useful                     NA                             \n",
       "6 NA                              NA                             \n",
       "  LearningPlatformUsefulnessCollege LearningPlatformUsefulnessCompany\n",
       "1 NA                                NA                               \n",
       "2 NA                                NA                               \n",
       "3 Somewhat useful                   NA                               \n",
       "4 Very useful                       NA                               \n",
       "5 NA                                NA                               \n",
       "6 NA                                NA                               \n",
       "  LearningPlatformUsefulnessConferences LearningPlatformUsefulnessFriends\n",
       "1 Very useful                           NA                               \n",
       "2 NA                                    NA                               \n",
       "3 NA                                    NA                               \n",
       "4 Very useful                           Very useful                      \n",
       "5 Somewhat useful                       NA                               \n",
       "6 NA                                    NA                               \n",
       "  LearningPlatformUsefulnessKaggle LearningPlatformUsefulnessNewsletters\n",
       "1 NA                               NA                                   \n",
       "2 Somewhat useful                  NA                                   \n",
       "3 Somewhat useful                  NA                                   \n",
       "4 NA                               NA                                   \n",
       "5 Somewhat useful                  NA                                   \n",
       "6 Very useful                      NA                                   \n",
       "  LearningPlatformUsefulnessCommunities LearningPlatformUsefulnessDocumentation\n",
       "1 NA                                    NA                                     \n",
       "2 NA                                    NA                                     \n",
       "3 NA                                    NA                                     \n",
       "4 NA                                    Very useful                            \n",
       "5 NA                                    NA                                     \n",
       "6 NA                                    NA                                     \n",
       "  ... WorkChallengeFrequencyScaling WorkChallengeFrequencyEnvironments\n",
       "1 ... Most of the time              NA                                \n",
       "2 ... NA                            NA                                \n",
       "3 ... NA                            NA                                \n",
       "4 ... Often                         Often                             \n",
       "5 ... NA                            Sometimes                         \n",
       "6 ... NA                            NA                                \n",
       "  WorkChallengeFrequencyClarity WorkChallengeFrequencyDataAccess\n",
       "1 NA                            NA                              \n",
       "2 NA                            NA                              \n",
       "3 NA                            NA                              \n",
       "4 Often                         Often                           \n",
       "5 NA                            NA                              \n",
       "6 NA                            NA                              \n",
       "  WorkChallengeFrequencyOtherSelect\n",
       "1 NA                               \n",
       "2 NA                               \n",
       "3 NA                               \n",
       "4 NA                               \n",
       "5 NA                               \n",
       "6 NA                               \n",
       "  WorkInternalVsExternalTools                   FormalEducation   Age\n",
       "1 Do not know                                   Bachelor's degree NA \n",
       "2 NA                                            Master's degree   30 \n",
       "3 NA                                            Master's degree   28 \n",
       "4 Entirely internal                             Master's degree   56 \n",
       "5 Approximately half internal and half external Doctoral degree   38 \n",
       "6 More internal than external                   Doctoral degree   46 \n",
       "  DataScienceIdentitySelect JobSatisfaction      \n",
       "1 Yes                       5                    \n",
       "2 Yes                       NA                   \n",
       "3 Yes                       NA                   \n",
       "4 Yes                       10 - Highly Satisfied\n",
       "5 No                        2                    \n",
       "6 NA                        8                    "
      ]
     },
     "metadata": {},
     "output_type": "display_data"
    }
   ],
   "source": [
    "# Convert all character columns to factors\n",
    "kaggle_response <- kaggle_response %>%\n",
    "mutate_if(is.character , as.factor) \n",
    "\n",
    "# top 6 rows\n",
    "head(kaggle_response)"
   ]
  },
  {
   "cell_type": "markdown",
   "id": "optimum-relations",
   "metadata": {},
   "source": [
    "### Summarizing Factors  \n",
    "Once we have converted our desired coluns to factors , we want to find out more about each one. We can use three functions:   \n",
    "1. nlevels() will give us the number of sub-categories of the factor   \n",
    "2. levels() will give us the names of each sub category  \n",
    "3. summarise_if() will returs a single number, to all columns that meet a certain condition \n",
    "\n",
    "Let us look at number of levels in LearningDataScienceTime column"
   ]
  },
  {
   "cell_type": "code",
   "execution_count": 21,
   "id": "blocked-belgium",
   "metadata": {},
   "outputs": [
    {
     "data": {
      "text/html": [
       "6"
      ],
      "text/latex": [
       "6"
      ],
      "text/markdown": [
       "6"
      ],
      "text/plain": [
       "[1] 6"
      ]
     },
     "metadata": {},
     "output_type": "display_data"
    }
   ],
   "source": [
    "# number of sub-categories / levels within the LearningDataScience column\n",
    "nlevels(kaggle_response$LearningDataScienceTime)"
   ]
  },
  {
   "cell_type": "markdown",
   "id": "regulation-combine",
   "metadata": {},
   "source": [
    "Let us look at names/sub-categories of levels in LearningDataScienceTime column"
   ]
  },
  {
   "cell_type": "code",
   "execution_count": 22,
   "id": "annoying-literature",
   "metadata": {},
   "outputs": [
    {
     "data": {
      "text/html": [
       "<style>\n",
       ".list-inline {list-style: none; margin:0; padding: 0}\n",
       ".list-inline>li {display: inline-block}\n",
       ".list-inline>li:not(:last-child)::after {content: \"\\00b7\"; padding: 0 .5ex}\n",
       "</style>\n",
       "<ol class=list-inline><li>'&lt; 1 year'</li><li>'1-2 years'</li><li>'10-15 years'</li><li>'15+ years'</li><li>'3-5 years'</li><li>'5-10 years'</li></ol>\n"
      ],
      "text/latex": [
       "\\begin{enumerate*}\n",
       "\\item '< 1 year'\n",
       "\\item '1-2 years'\n",
       "\\item '10-15 years'\n",
       "\\item '15+ years'\n",
       "\\item '3-5 years'\n",
       "\\item '5-10 years'\n",
       "\\end{enumerate*}\n"
      ],
      "text/markdown": [
       "1. '&lt; 1 year'\n",
       "2. '1-2 years'\n",
       "3. '10-15 years'\n",
       "4. '15+ years'\n",
       "5. '3-5 years'\n",
       "6. '5-10 years'\n",
       "\n",
       "\n"
      ],
      "text/plain": [
       "[1] \"< 1 year\"    \"1-2 years\"   \"10-15 years\" \"15+ years\"   \"3-5 years\"  \n",
       "[6] \"5-10 years\" "
      ]
     },
     "metadata": {},
     "output_type": "display_data"
    }
   ],
   "source": [
    "# list of sub categories / levels within the LearningDataScience column\n",
    "levels(kaggle_response$LearningDataScienceTime)"
   ]
  },
  {
   "cell_type": "markdown",
   "id": "lined-republican",
   "metadata": {},
   "source": [
    "Let us get number of levels for every factor variable"
   ]
  },
  {
   "cell_type": "code",
   "execution_count": 26,
   "id": "social-jacket",
   "metadata": {},
   "outputs": [
    {
     "data": {
      "text/html": [
       "<table>\n",
       "<caption>A tibble: 1 × 47</caption>\n",
       "<thead>\n",
       "\t<tr><th scope=col>LearningPlatformUsefulnessArxiv</th><th scope=col>LearningPlatformUsefulnessBlogs</th><th scope=col>LearningPlatformUsefulnessCollege</th><th scope=col>LearningPlatformUsefulnessCompany</th><th scope=col>LearningPlatformUsefulnessConferences</th><th scope=col>LearningPlatformUsefulnessFriends</th><th scope=col>LearningPlatformUsefulnessKaggle</th><th scope=col>LearningPlatformUsefulnessNewsletters</th><th scope=col>LearningPlatformUsefulnessCommunities</th><th scope=col>LearningPlatformUsefulnessDocumentation</th><th scope=col>...</th><th scope=col>WorkChallengeFrequencyPrivacy</th><th scope=col>WorkChallengeFrequencyScaling</th><th scope=col>WorkChallengeFrequencyEnvironments</th><th scope=col>WorkChallengeFrequencyClarity</th><th scope=col>WorkChallengeFrequencyDataAccess</th><th scope=col>WorkChallengeFrequencyOtherSelect</th><th scope=col>WorkInternalVsExternalTools</th><th scope=col>FormalEducation</th><th scope=col>DataScienceIdentitySelect</th><th scope=col>JobSatisfaction</th></tr>\n",
       "\t<tr><th scope=col>&lt;int&gt;</th><th scope=col>&lt;int&gt;</th><th scope=col>&lt;int&gt;</th><th scope=col>&lt;int&gt;</th><th scope=col>&lt;int&gt;</th><th scope=col>&lt;int&gt;</th><th scope=col>&lt;int&gt;</th><th scope=col>&lt;int&gt;</th><th scope=col>&lt;int&gt;</th><th scope=col>&lt;int&gt;</th><th scope=col>...</th><th scope=col>&lt;int&gt;</th><th scope=col>&lt;int&gt;</th><th scope=col>&lt;int&gt;</th><th scope=col>&lt;int&gt;</th><th scope=col>&lt;int&gt;</th><th scope=col>&lt;int&gt;</th><th scope=col>&lt;int&gt;</th><th scope=col>&lt;int&gt;</th><th scope=col>&lt;int&gt;</th><th scope=col>&lt;int&gt;</th></tr>\n",
       "</thead>\n",
       "<tbody>\n",
       "\t<tr><td>3</td><td>3</td><td>3</td><td>3</td><td>3</td><td>3</td><td>3</td><td>3</td><td>3</td><td>3</td><td>...</td><td>4</td><td>4</td><td>4</td><td>4</td><td>4</td><td>4</td><td>6</td><td>7</td><td>3</td><td>11</td></tr>\n",
       "</tbody>\n",
       "</table>\n"
      ],
      "text/latex": [
       "A tibble: 1 × 47\n",
       "\\begin{tabular}{lllllllllllllllllllll}\n",
       " LearningPlatformUsefulnessArxiv & LearningPlatformUsefulnessBlogs & LearningPlatformUsefulnessCollege & LearningPlatformUsefulnessCompany & LearningPlatformUsefulnessConferences & LearningPlatformUsefulnessFriends & LearningPlatformUsefulnessKaggle & LearningPlatformUsefulnessNewsletters & LearningPlatformUsefulnessCommunities & LearningPlatformUsefulnessDocumentation & ... & WorkChallengeFrequencyPrivacy & WorkChallengeFrequencyScaling & WorkChallengeFrequencyEnvironments & WorkChallengeFrequencyClarity & WorkChallengeFrequencyDataAccess & WorkChallengeFrequencyOtherSelect & WorkInternalVsExternalTools & FormalEducation & DataScienceIdentitySelect & JobSatisfaction\\\\\n",
       " <int> & <int> & <int> & <int> & <int> & <int> & <int> & <int> & <int> & <int> & ... & <int> & <int> & <int> & <int> & <int> & <int> & <int> & <int> & <int> & <int>\\\\\n",
       "\\hline\n",
       "\t 3 & 3 & 3 & 3 & 3 & 3 & 3 & 3 & 3 & 3 & ... & 4 & 4 & 4 & 4 & 4 & 4 & 6 & 7 & 3 & 11\\\\\n",
       "\\end{tabular}\n"
      ],
      "text/markdown": [
       "\n",
       "A tibble: 1 × 47\n",
       "\n",
       "| LearningPlatformUsefulnessArxiv &lt;int&gt; | LearningPlatformUsefulnessBlogs &lt;int&gt; | LearningPlatformUsefulnessCollege &lt;int&gt; | LearningPlatformUsefulnessCompany &lt;int&gt; | LearningPlatformUsefulnessConferences &lt;int&gt; | LearningPlatformUsefulnessFriends &lt;int&gt; | LearningPlatformUsefulnessKaggle &lt;int&gt; | LearningPlatformUsefulnessNewsletters &lt;int&gt; | LearningPlatformUsefulnessCommunities &lt;int&gt; | LearningPlatformUsefulnessDocumentation &lt;int&gt; | ... ... | WorkChallengeFrequencyPrivacy &lt;int&gt; | WorkChallengeFrequencyScaling &lt;int&gt; | WorkChallengeFrequencyEnvironments &lt;int&gt; | WorkChallengeFrequencyClarity &lt;int&gt; | WorkChallengeFrequencyDataAccess &lt;int&gt; | WorkChallengeFrequencyOtherSelect &lt;int&gt; | WorkInternalVsExternalTools &lt;int&gt; | FormalEducation &lt;int&gt; | DataScienceIdentitySelect &lt;int&gt; | JobSatisfaction &lt;int&gt; |\n",
       "|---|---|---|---|---|---|---|---|---|---|---|---|---|---|---|---|---|---|---|---|---|\n",
       "| 3 | 3 | 3 | 3 | 3 | 3 | 3 | 3 | 3 | 3 | ... | 4 | 4 | 4 | 4 | 4 | 4 | 6 | 7 | 3 | 11 |\n",
       "\n"
      ],
      "text/plain": [
       "  LearningPlatformUsefulnessArxiv LearningPlatformUsefulnessBlogs\n",
       "1 3                               3                              \n",
       "  LearningPlatformUsefulnessCollege LearningPlatformUsefulnessCompany\n",
       "1 3                                 3                                \n",
       "  LearningPlatformUsefulnessConferences LearningPlatformUsefulnessFriends\n",
       "1 3                                     3                                \n",
       "  LearningPlatformUsefulnessKaggle LearningPlatformUsefulnessNewsletters\n",
       "1 3                                3                                    \n",
       "  LearningPlatformUsefulnessCommunities LearningPlatformUsefulnessDocumentation\n",
       "1 3                                     3                                      \n",
       "  ... WorkChallengeFrequencyPrivacy WorkChallengeFrequencyScaling\n",
       "1 ... 4                             4                            \n",
       "  WorkChallengeFrequencyEnvironments WorkChallengeFrequencyClarity\n",
       "1 4                                  4                            \n",
       "  WorkChallengeFrequencyDataAccess WorkChallengeFrequencyOtherSelect\n",
       "1 4                                4                                \n",
       "  WorkInternalVsExternalTools FormalEducation DataScienceIdentitySelect\n",
       "1 6                           7               3                        \n",
       "  JobSatisfaction\n",
       "1 11             "
      ]
     },
     "metadata": {},
     "output_type": "display_data"
    }
   ],
   "source": [
    "# number of levels of every factor variable\n",
    "kaggle_response %>%\n",
    "summarise_if(is.factor , nlevels)"
   ]
  },
  {
   "cell_type": "markdown",
   "id": "armed-metabolism",
   "metadata": {},
   "source": [
    "Let us convert this into a tidy table format by applying pivot_longer  \n",
    "\n",
    "1. Change all the character columns to factor columns and save the new dataset as responses_as_factors"
   ]
  },
  {
   "cell_type": "code",
   "execution_count": 37,
   "id": "steady-hometown",
   "metadata": {},
   "outputs": [],
   "source": [
    "# Change all the character columns to factors\n",
    "response_factor <- kaggle_response %>% \n",
    "  mutate_if(is.character, as.factor)"
   ]
  },
  {
   "cell_type": "markdown",
   "id": "polar-exclusive",
   "metadata": {},
   "source": [
    "2. Create a new dataset, number_of_levels:Use summarise_all to apply the function nlevels to each column and change the dataset to long"
   ]
  },
  {
   "cell_type": "code",
   "execution_count": 39,
   "id": "divided-possession",
   "metadata": {},
   "outputs": [
    {
     "data": {
      "text/html": [
       "<table>\n",
       "<caption>A tibble: 48 × 2</caption>\n",
       "<thead>\n",
       "\t<tr><th scope=col>Variable</th><th scope=col>Levels</th></tr>\n",
       "\t<tr><th scope=col>&lt;chr&gt;</th><th scope=col>&lt;int&gt;</th></tr>\n",
       "</thead>\n",
       "<tbody>\n",
       "\t<tr><td>MLMethodNextYearSelect                     </td><td>25</td></tr>\n",
       "\t<tr><td>CurrentJobTitleSelect                      </td><td>16</td></tr>\n",
       "\t<tr><td>JobSatisfaction                            </td><td>11</td></tr>\n",
       "\t<tr><td>FormalEducation                            </td><td> 7</td></tr>\n",
       "\t<tr><td>LearningDataScienceTime                    </td><td> 6</td></tr>\n",
       "\t<tr><td>WorkInternalVsExternalTools                </td><td> 6</td></tr>\n",
       "\t<tr><td>WorkChallengeFrequencyPolitics             </td><td> 4</td></tr>\n",
       "\t<tr><td>WorkChallengeFrequencyUnusedResults        </td><td> 4</td></tr>\n",
       "\t<tr><td>WorkChallengeFrequencyUnusefulInstrumenting</td><td> 4</td></tr>\n",
       "\t<tr><td>WorkChallengeFrequencyDeployment           </td><td> 4</td></tr>\n",
       "\t<tr><td>WorkChallengeFrequencyDirtyData            </td><td> 4</td></tr>\n",
       "\t<tr><td>WorkChallengeFrequencyExplaining           </td><td> 4</td></tr>\n",
       "\t<tr><td>WorkChallengeFrequencyPass                 </td><td> 4</td></tr>\n",
       "\t<tr><td>WorkChallengeFrequencyIntegration          </td><td> 4</td></tr>\n",
       "\t<tr><td>WorkChallengeFrequencyTalent               </td><td> 4</td></tr>\n",
       "\t<tr><td>WorkChallengeFrequencyDataFunds            </td><td> 4</td></tr>\n",
       "\t<tr><td>WorkChallengeFrequencyDomainExpertise      </td><td> 4</td></tr>\n",
       "\t<tr><td>WorkChallengeFrequencyML                   </td><td> 4</td></tr>\n",
       "\t<tr><td>WorkChallengeFrequencyTools                </td><td> 4</td></tr>\n",
       "\t<tr><td>WorkChallengeFrequencyExpectations         </td><td> 4</td></tr>\n",
       "\t<tr><td>WorkChallengeFrequencyITCoordination       </td><td> 4</td></tr>\n",
       "\t<tr><td>WorkChallengeFrequencyHiringFunds          </td><td> 4</td></tr>\n",
       "\t<tr><td>WorkChallengeFrequencyPrivacy              </td><td> 4</td></tr>\n",
       "\t<tr><td>WorkChallengeFrequencyScaling              </td><td> 4</td></tr>\n",
       "\t<tr><td>WorkChallengeFrequencyEnvironments         </td><td> 4</td></tr>\n",
       "\t<tr><td>WorkChallengeFrequencyClarity              </td><td> 4</td></tr>\n",
       "\t<tr><td>WorkChallengeFrequencyDataAccess           </td><td> 4</td></tr>\n",
       "\t<tr><td>WorkChallengeFrequencyOtherSelect          </td><td> 4</td></tr>\n",
       "\t<tr><td>LearningPlatformUsefulnessArxiv            </td><td> 3</td></tr>\n",
       "\t<tr><td>LearningPlatformUsefulnessBlogs            </td><td> 3</td></tr>\n",
       "\t<tr><td>LearningPlatformUsefulnessCollege          </td><td> 3</td></tr>\n",
       "\t<tr><td>LearningPlatformUsefulnessCompany          </td><td> 3</td></tr>\n",
       "\t<tr><td>LearningPlatformUsefulnessConferences      </td><td> 3</td></tr>\n",
       "\t<tr><td>LearningPlatformUsefulnessFriends          </td><td> 3</td></tr>\n",
       "\t<tr><td>LearningPlatformUsefulnessKaggle           </td><td> 3</td></tr>\n",
       "\t<tr><td>LearningPlatformUsefulnessNewsletters      </td><td> 3</td></tr>\n",
       "\t<tr><td>LearningPlatformUsefulnessCommunities      </td><td> 3</td></tr>\n",
       "\t<tr><td>LearningPlatformUsefulnessDocumentation    </td><td> 3</td></tr>\n",
       "\t<tr><td>LearningPlatformUsefulnessCourses          </td><td> 3</td></tr>\n",
       "\t<tr><td>LearningPlatformUsefulnessProjects         </td><td> 3</td></tr>\n",
       "\t<tr><td>LearningPlatformUsefulnessPodcasts         </td><td> 3</td></tr>\n",
       "\t<tr><td>LearningPlatformUsefulnessSO               </td><td> 3</td></tr>\n",
       "\t<tr><td>LearningPlatformUsefulnessTextbook         </td><td> 3</td></tr>\n",
       "\t<tr><td>LearningPlatformUsefulnessTradeBook        </td><td> 3</td></tr>\n",
       "\t<tr><td>LearningPlatformUsefulnessTutoring         </td><td> 3</td></tr>\n",
       "\t<tr><td>LearningPlatformUsefulnessYouTube          </td><td> 3</td></tr>\n",
       "\t<tr><td>DataScienceIdentitySelect                  </td><td> 3</td></tr>\n",
       "\t<tr><td>Age                                        </td><td> 0</td></tr>\n",
       "</tbody>\n",
       "</table>\n"
      ],
      "text/latex": [
       "A tibble: 48 × 2\n",
       "\\begin{tabular}{ll}\n",
       " Variable & Levels\\\\\n",
       " <chr> & <int>\\\\\n",
       "\\hline\n",
       "\t MLMethodNextYearSelect                      & 25\\\\\n",
       "\t CurrentJobTitleSelect                       & 16\\\\\n",
       "\t JobSatisfaction                             & 11\\\\\n",
       "\t FormalEducation                             &  7\\\\\n",
       "\t LearningDataScienceTime                     &  6\\\\\n",
       "\t WorkInternalVsExternalTools                 &  6\\\\\n",
       "\t WorkChallengeFrequencyPolitics              &  4\\\\\n",
       "\t WorkChallengeFrequencyUnusedResults         &  4\\\\\n",
       "\t WorkChallengeFrequencyUnusefulInstrumenting &  4\\\\\n",
       "\t WorkChallengeFrequencyDeployment            &  4\\\\\n",
       "\t WorkChallengeFrequencyDirtyData             &  4\\\\\n",
       "\t WorkChallengeFrequencyExplaining            &  4\\\\\n",
       "\t WorkChallengeFrequencyPass                  &  4\\\\\n",
       "\t WorkChallengeFrequencyIntegration           &  4\\\\\n",
       "\t WorkChallengeFrequencyTalent                &  4\\\\\n",
       "\t WorkChallengeFrequencyDataFunds             &  4\\\\\n",
       "\t WorkChallengeFrequencyDomainExpertise       &  4\\\\\n",
       "\t WorkChallengeFrequencyML                    &  4\\\\\n",
       "\t WorkChallengeFrequencyTools                 &  4\\\\\n",
       "\t WorkChallengeFrequencyExpectations          &  4\\\\\n",
       "\t WorkChallengeFrequencyITCoordination        &  4\\\\\n",
       "\t WorkChallengeFrequencyHiringFunds           &  4\\\\\n",
       "\t WorkChallengeFrequencyPrivacy               &  4\\\\\n",
       "\t WorkChallengeFrequencyScaling               &  4\\\\\n",
       "\t WorkChallengeFrequencyEnvironments          &  4\\\\\n",
       "\t WorkChallengeFrequencyClarity               &  4\\\\\n",
       "\t WorkChallengeFrequencyDataAccess            &  4\\\\\n",
       "\t WorkChallengeFrequencyOtherSelect           &  4\\\\\n",
       "\t LearningPlatformUsefulnessArxiv             &  3\\\\\n",
       "\t LearningPlatformUsefulnessBlogs             &  3\\\\\n",
       "\t LearningPlatformUsefulnessCollege           &  3\\\\\n",
       "\t LearningPlatformUsefulnessCompany           &  3\\\\\n",
       "\t LearningPlatformUsefulnessConferences       &  3\\\\\n",
       "\t LearningPlatformUsefulnessFriends           &  3\\\\\n",
       "\t LearningPlatformUsefulnessKaggle            &  3\\\\\n",
       "\t LearningPlatformUsefulnessNewsletters       &  3\\\\\n",
       "\t LearningPlatformUsefulnessCommunities       &  3\\\\\n",
       "\t LearningPlatformUsefulnessDocumentation     &  3\\\\\n",
       "\t LearningPlatformUsefulnessCourses           &  3\\\\\n",
       "\t LearningPlatformUsefulnessProjects          &  3\\\\\n",
       "\t LearningPlatformUsefulnessPodcasts          &  3\\\\\n",
       "\t LearningPlatformUsefulnessSO                &  3\\\\\n",
       "\t LearningPlatformUsefulnessTextbook          &  3\\\\\n",
       "\t LearningPlatformUsefulnessTradeBook         &  3\\\\\n",
       "\t LearningPlatformUsefulnessTutoring          &  3\\\\\n",
       "\t LearningPlatformUsefulnessYouTube           &  3\\\\\n",
       "\t DataScienceIdentitySelect                   &  3\\\\\n",
       "\t Age                                         &  0\\\\\n",
       "\\end{tabular}\n"
      ],
      "text/markdown": [
       "\n",
       "A tibble: 48 × 2\n",
       "\n",
       "| Variable &lt;chr&gt; | Levels &lt;int&gt; |\n",
       "|---|---|\n",
       "| MLMethodNextYearSelect                      | 25 |\n",
       "| CurrentJobTitleSelect                       | 16 |\n",
       "| JobSatisfaction                             | 11 |\n",
       "| FormalEducation                             |  7 |\n",
       "| LearningDataScienceTime                     |  6 |\n",
       "| WorkInternalVsExternalTools                 |  6 |\n",
       "| WorkChallengeFrequencyPolitics              |  4 |\n",
       "| WorkChallengeFrequencyUnusedResults         |  4 |\n",
       "| WorkChallengeFrequencyUnusefulInstrumenting |  4 |\n",
       "| WorkChallengeFrequencyDeployment            |  4 |\n",
       "| WorkChallengeFrequencyDirtyData             |  4 |\n",
       "| WorkChallengeFrequencyExplaining            |  4 |\n",
       "| WorkChallengeFrequencyPass                  |  4 |\n",
       "| WorkChallengeFrequencyIntegration           |  4 |\n",
       "| WorkChallengeFrequencyTalent                |  4 |\n",
       "| WorkChallengeFrequencyDataFunds             |  4 |\n",
       "| WorkChallengeFrequencyDomainExpertise       |  4 |\n",
       "| WorkChallengeFrequencyML                    |  4 |\n",
       "| WorkChallengeFrequencyTools                 |  4 |\n",
       "| WorkChallengeFrequencyExpectations          |  4 |\n",
       "| WorkChallengeFrequencyITCoordination        |  4 |\n",
       "| WorkChallengeFrequencyHiringFunds           |  4 |\n",
       "| WorkChallengeFrequencyPrivacy               |  4 |\n",
       "| WorkChallengeFrequencyScaling               |  4 |\n",
       "| WorkChallengeFrequencyEnvironments          |  4 |\n",
       "| WorkChallengeFrequencyClarity               |  4 |\n",
       "| WorkChallengeFrequencyDataAccess            |  4 |\n",
       "| WorkChallengeFrequencyOtherSelect           |  4 |\n",
       "| LearningPlatformUsefulnessArxiv             |  3 |\n",
       "| LearningPlatformUsefulnessBlogs             |  3 |\n",
       "| LearningPlatformUsefulnessCollege           |  3 |\n",
       "| LearningPlatformUsefulnessCompany           |  3 |\n",
       "| LearningPlatformUsefulnessConferences       |  3 |\n",
       "| LearningPlatformUsefulnessFriends           |  3 |\n",
       "| LearningPlatformUsefulnessKaggle            |  3 |\n",
       "| LearningPlatformUsefulnessNewsletters       |  3 |\n",
       "| LearningPlatformUsefulnessCommunities       |  3 |\n",
       "| LearningPlatformUsefulnessDocumentation     |  3 |\n",
       "| LearningPlatformUsefulnessCourses           |  3 |\n",
       "| LearningPlatformUsefulnessProjects          |  3 |\n",
       "| LearningPlatformUsefulnessPodcasts          |  3 |\n",
       "| LearningPlatformUsefulnessSO                |  3 |\n",
       "| LearningPlatformUsefulnessTextbook          |  3 |\n",
       "| LearningPlatformUsefulnessTradeBook         |  3 |\n",
       "| LearningPlatformUsefulnessTutoring          |  3 |\n",
       "| LearningPlatformUsefulnessYouTube           |  3 |\n",
       "| DataScienceIdentitySelect                   |  3 |\n",
       "| Age                                         |  0 |\n",
       "\n"
      ],
      "text/plain": [
       "   Variable                                    Levels\n",
       "1  MLMethodNextYearSelect                      25    \n",
       "2  CurrentJobTitleSelect                       16    \n",
       "3  JobSatisfaction                             11    \n",
       "4  FormalEducation                              7    \n",
       "5  LearningDataScienceTime                      6    \n",
       "6  WorkInternalVsExternalTools                  6    \n",
       "7  WorkChallengeFrequencyPolitics               4    \n",
       "8  WorkChallengeFrequencyUnusedResults          4    \n",
       "9  WorkChallengeFrequencyUnusefulInstrumenting  4    \n",
       "10 WorkChallengeFrequencyDeployment             4    \n",
       "11 WorkChallengeFrequencyDirtyData              4    \n",
       "12 WorkChallengeFrequencyExplaining             4    \n",
       "13 WorkChallengeFrequencyPass                   4    \n",
       "14 WorkChallengeFrequencyIntegration            4    \n",
       "15 WorkChallengeFrequencyTalent                 4    \n",
       "16 WorkChallengeFrequencyDataFunds              4    \n",
       "17 WorkChallengeFrequencyDomainExpertise        4    \n",
       "18 WorkChallengeFrequencyML                     4    \n",
       "19 WorkChallengeFrequencyTools                  4    \n",
       "20 WorkChallengeFrequencyExpectations           4    \n",
       "21 WorkChallengeFrequencyITCoordination         4    \n",
       "22 WorkChallengeFrequencyHiringFunds            4    \n",
       "23 WorkChallengeFrequencyPrivacy                4    \n",
       "24 WorkChallengeFrequencyScaling                4    \n",
       "25 WorkChallengeFrequencyEnvironments           4    \n",
       "26 WorkChallengeFrequencyClarity                4    \n",
       "27 WorkChallengeFrequencyDataAccess             4    \n",
       "28 WorkChallengeFrequencyOtherSelect            4    \n",
       "29 LearningPlatformUsefulnessArxiv              3    \n",
       "30 LearningPlatformUsefulnessBlogs              3    \n",
       "31 LearningPlatformUsefulnessCollege            3    \n",
       "32 LearningPlatformUsefulnessCompany            3    \n",
       "33 LearningPlatformUsefulnessConferences        3    \n",
       "34 LearningPlatformUsefulnessFriends            3    \n",
       "35 LearningPlatformUsefulnessKaggle             3    \n",
       "36 LearningPlatformUsefulnessNewsletters        3    \n",
       "37 LearningPlatformUsefulnessCommunities        3    \n",
       "38 LearningPlatformUsefulnessDocumentation      3    \n",
       "39 LearningPlatformUsefulnessCourses            3    \n",
       "40 LearningPlatformUsefulnessProjects           3    \n",
       "41 LearningPlatformUsefulnessPodcasts           3    \n",
       "42 LearningPlatformUsefulnessSO                 3    \n",
       "43 LearningPlatformUsefulnessTextbook           3    \n",
       "44 LearningPlatformUsefulnessTradeBook          3    \n",
       "45 LearningPlatformUsefulnessTutoring           3    \n",
       "46 LearningPlatformUsefulnessYouTube            3    \n",
       "47 DataScienceIdentitySelect                    3    \n",
       "48 Age                                          0    "
      ]
     },
     "metadata": {},
     "output_type": "display_data"
    }
   ],
   "source": [
    "# Create new dataset of variables and levels\n",
    "response_factor %>%\n",
    "summarise_all(nlevels) %>%\n",
    "  # change the dataset from wide to long\n",
    "  pivot_longer(everything(), names_to = \"Variable\" , values_to = \"Levels\") %>%\n",
    "  # sort by descending order of levels\n",
    "  arrange(desc(Levels))"
   ]
  },
  {
   "cell_type": "code",
   "execution_count": null,
   "id": "chemical-startup",
   "metadata": {},
   "outputs": [],
   "source": []
  }
 ],
 "metadata": {
  "hide_input": false,
  "kernelspec": {
   "display_name": "R",
   "language": "R",
   "name": "ir"
  },
  "language_info": {
   "codemirror_mode": "r",
   "file_extension": ".r",
   "mimetype": "text/x-r-source",
   "name": "R",
   "pygments_lexer": "r",
   "version": "3.6.1"
  },
  "latex_envs": {
   "LaTeX_envs_menu_present": true,
   "autoclose": false,
   "autocomplete": true,
   "bibliofile": "biblio.bib",
   "cite_by": "apalike",
   "current_citInitial": 1,
   "eqLabelWithNumbers": true,
   "eqNumInitial": 1,
   "hotkeys": {
    "equation": "Ctrl-E",
    "itemize": "Ctrl-I"
   },
   "labels_anchors": false,
   "latex_user_defs": false,
   "report_style_numbering": false,
   "user_envs_cfg": false
  },
  "toc": {
   "base_numbering": 1,
   "nav_menu": {},
   "number_sections": true,
   "sideBar": true,
   "skip_h1_title": false,
   "title_cell": "Analysing Categorical Data",
   "title_sidebar": "Contents",
   "toc_cell": true,
   "toc_position": {},
   "toc_section_display": true,
   "toc_window_display": true
  },
  "varInspector": {
   "cols": {
    "lenName": 16,
    "lenType": 16,
    "lenVar": 40
   },
   "kernels_config": {
    "python": {
     "delete_cmd_postfix": "",
     "delete_cmd_prefix": "del ",
     "library": "var_list.py",
     "varRefreshCmd": "print(var_dic_list())"
    },
    "r": {
     "delete_cmd_postfix": ") ",
     "delete_cmd_prefix": "rm(",
     "library": "var_list.r",
     "varRefreshCmd": "cat(var_dic_list()) "
    }
   },
   "types_to_exclude": [
    "module",
    "function",
    "builtin_function_or_method",
    "instance",
    "_Feature"
   ],
   "window_display": false
  }
 },
 "nbformat": 4,
 "nbformat_minor": 5
}
